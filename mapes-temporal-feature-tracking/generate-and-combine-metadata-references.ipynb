{
 "cells": [
  {
   "cell_type": "markdown",
   "id": "08317248-b165-4f7b-8acd-0348835e7464",
   "metadata": {},
   "source": [
    "# Generate metadata reference files from MERRA-2 netCDFs in S3 storage"
   ]
  },
  {
   "cell_type": "markdown",
   "id": "95df6ea8-4d33-4f1b-8f95-b460a28413be",
   "metadata": {},
   "source": [
    "## This notebook serves you:\n",
    "\n",
    "1) S3 location of hourly MERRA-2 files\n",
    "2) Method and code for generating metadata reference files (json) using the kerchunk library\n",
    "3) Recommended storage location for generated metadata reference jsons\n",
    "4) Code for combining many metadata reference jsons into a single json file"
   ]
  },
  {
   "cell_type": "markdown",
   "id": "d1a9bb13-0e45-4b05-8e57-9ab22b598f12",
   "metadata": {},
   "source": [
    "### Import modules\n",
    "\n",
    "If you're in the Openscapes 2i2c Hub, you may need to update and install a few packages in your Terminal first\n",
    "\n",
    "\n",
    "- ```conda install -c conda-forge kerchunk```\n",
    "- ```conda update h5py```\n",
    "\n",
    "**Note: There are known issues with a method inside version 2.10.0, so update to any version > 2.10.0.\n",
    "\n"
   ]
  },
  {
   "cell_type": "code",
   "execution_count": 1,
   "id": "8f1d6293-3298-4b4b-8e6c-4cd789e84d80",
   "metadata": {},
   "outputs": [],
   "source": [
    "import requests\n",
    "import xarray as xr\n",
    "import s3fs\n",
    "import pathlib\n",
    "import ujson\n",
    "import h5py\n",
    "import fsspec\n",
    "from glob import glob\n",
    "from tqdm import tqdm\n",
    "\n",
    "from kerchunk.hdf import SingleHdf5ToZarr \n",
    "from kerchunk.combine import MultiZarrToZarr\n",
    "#from fsspec_reference_maker.combine import MultiZarrToZarr\n",
    "\n",
    "# The xarray produced from the reference file throws a SerializationWarning for each variable. Will need to explore why\n",
    "import warnings\n",
    "warnings.simplefilter(\"ignore\")"
   ]
  },
  {
   "cell_type": "markdown",
   "id": "bf92b6d3-0021-422b-8385-6ddcfb6a3bfd",
   "metadata": {},
   "source": [
    "### Get authentication and set up file system"
   ]
  },
  {
   "cell_type": "code",
   "execution_count": 2,
   "id": "c7b89333-3f55-49fe-a7ee-d8eaff3e63f0",
   "metadata": {},
   "outputs": [],
   "source": [
    "gesdisc_s3 = \"https://data.gesdisc.earthdata.nasa.gov/s3credentials\"\n",
    "\n",
    "response = requests.get(gesdisc_s3).json()\n",
    "fs = s3fs.S3FileSystem(key=response['accessKeyId'],\n",
    "                    secret=response['secretAccessKey'],\n",
    "                    token=response['sessionToken'],\n",
    "                    client_kwargs={'region_name':'us-west-2'})"
   ]
  },
  {
   "cell_type": "markdown",
   "id": "87a99a4e-90a2-4f7e-82ac-06e408fe93e5",
   "metadata": {},
   "source": [
    "### Get a list of URLs for a particular month of MERRA-2 data (March 2019)"
   ]
  },
  {
   "cell_type": "code",
   "execution_count": null,
   "id": "69a5fe38-dbba-4d3c-bdb0-eec9490eccc0",
   "metadata": {
    "tags": []
   },
   "outputs": [],
   "source": [
    "urls = fs.ls(\"s3://gesdisc-cumulus-prod-protected/MERRA2/M2T1NXSLV.5.12.4/2019/03/\")\n",
    "#urls"
   ]
  },
  {
   "cell_type": "markdown",
   "id": "d35cdd8a-614e-4ea6-a30e-7e96ae588fc7",
   "metadata": {},
   "source": [
    "### Create Dask client to process the json files in parallel\n",
    "\n",
    "We recommend taking advantage of Dask parallelization to speed up the generation of these metadata json files. This is a task that does not need to be done in sequence."
   ]
  },
  {
   "cell_type": "code",
   "execution_count": null,
   "id": "d1bb6ebc-431c-499b-86f4-72611348fa63",
   "metadata": {},
   "outputs": [],
   "source": [
    "import dask\n",
    "from dask.distributed import Client\n",
    "client = Client(n_workers=4)\n",
    "client"
   ]
  },
  {
   "cell_type": "markdown",
   "id": "2295b788-1932-4231-b9c5-fb577851f011",
   "metadata": {},
   "source": [
    "### Define a function for making metadata json files\n",
    "\n",
    "This uses methods from the kerchunk library (originally fsspec-reference-maker) to draw out important pieces of metadata from the netCDF files stored in S3"
   ]
  },
  {
   "cell_type": "code",
   "execution_count": null,
   "id": "4ff37166-84be-48b4-9a93-d6b4c278b661",
   "metadata": {},
   "outputs": [],
   "source": [
    "def gen_json(u,output_path):\n",
    "    so = dict(\n",
    "        mode= \"rb\", \n",
    "        anon= True,\n",
    "        default_fill_cache= False,\n",
    "        default_cache_type= \"none\"\n",
    "    )\n",
    "    with fs.open(u, **so) as infile:\n",
    "        h5chunks = SingleHdf5ToZarr(infile, u, inline_threshold=300)\n",
    "        with open(f\"{output_path}/{u.split('/')[-1]}.json\", 'wb') as outf:\n",
    "            outf.write(ujson.dumps(h5chunks.translate()).encode())"
   ]
  },
  {
   "cell_type": "markdown",
   "id": "0f63701f-f251-423f-a401-6727e1421613",
   "metadata": {},
   "source": [
    "### Create a directory for output jsons if one doesn't exist already. \n",
    "\n",
    "We recommend you create thid directory OUTSIDE of this repository, in your own workspace."
   ]
  },
  {
   "cell_type": "code",
   "execution_count": 3,
   "id": "95f9b1d6-e5d4-4fe4-a581-9a2744cf0c32",
   "metadata": {},
   "outputs": [],
   "source": [
    "output_path = '/home/jovyan/data/jsons' # Change this to your preferred location\n",
    "pathlib.Path(output_path).mkdir(exist_ok=True)"
   ]
  },
  {
   "cell_type": "markdown",
   "id": "6e64b2b3-93a3-4bbb-a5a8-4029d11fb638",
   "metadata": {},
   "source": [
    "### Use the Dask Delayed function to create the Kerchunk reference file (json) for each URL in the list of URLs in parallel"
   ]
  },
  {
   "cell_type": "code",
   "execution_count": null,
   "id": "7d09ad4c-4a90-436e-8ba0-7c98660191cc",
   "metadata": {},
   "outputs": [],
   "source": [
    "%%time\n",
    "dask.compute(*[dask.delayed(gen_json)(u,output_path) for u in urls])"
   ]
  },
  {
   "cell_type": "markdown",
   "id": "eaa3057a-6a30-4116-a1eb-0f3fb58b4cc1",
   "metadata": {},
   "source": [
    "### If successful, you should be able to see 31 metadata reference json files in your specified output directory"
   ]
  },
  {
   "cell_type": "markdown",
   "id": "cf6999be-00c5-4038-94bf-e5a281136cdf",
   "metadata": {},
   "source": [
    "### Define parameters for fsspec that include us-west-2 credentials"
   ]
  },
  {
   "cell_type": "code",
   "execution_count": null,
   "id": "11ad2364-ffb3-4a09-a227-c7fc29bf0b2f",
   "metadata": {},
   "outputs": [],
   "source": [
    "# s_opts = {'skip_instance_cache':True}\n",
    "# r_opts = {'anon':False,\n",
    "#           'key':response['accessKeyId'],\n",
    "#           'secret':response['secretAccessKey'],\n",
    "#           'token':response['sessionToken']}"
   ]
  },
  {
   "cell_type": "markdown",
   "id": "a3d81dbb-c3a1-495f-8888-c089b01ca73a",
   "metadata": {},
   "source": [
    "### Now combine the metadata reference files you just genereated into a single zarr store\n",
    "\n",
    "Make sure to define the correct 'dim' concat arguments or else you will receive a very long, complicated error."
   ]
  },
  {
   "cell_type": "code",
   "execution_count": 4,
   "id": "9f25ab7f-24ac-462a-9a2e-0f8b96837c3c",
   "metadata": {},
   "outputs": [
    {
     "ename": "TypeError",
     "evalue": "__init__() got an unexpected keyword argument 'xarray_open_kwargs'",
     "output_type": "error",
     "traceback": [
      "\u001b[0;31m---------------------------------------------------------------------------\u001b[0m",
      "\u001b[0;31mTypeError\u001b[0m                                 Traceback (most recent call last)",
      "Input \u001b[0;32mIn [4]\u001b[0m, in \u001b[0;36m<cell line: 2>\u001b[0;34m()\u001b[0m\n\u001b[1;32m      1\u001b[0m json_list \u001b[38;5;241m=\u001b[39m \u001b[38;5;28msorted\u001b[39m(glob(output_path\u001b[38;5;241m+\u001b[39m\u001b[38;5;124m'\u001b[39m\u001b[38;5;124m/*.json\u001b[39m\u001b[38;5;124m'\u001b[39m))\n\u001b[0;32m----> 2\u001b[0m mzz \u001b[38;5;241m=\u001b[39m \u001b[43mMultiZarrToZarr\u001b[49m\u001b[43m(\u001b[49m\u001b[43mjson_list\u001b[49m\u001b[43m,\u001b[49m\n\u001b[1;32m      3\u001b[0m \u001b[43m                      \u001b[49m\u001b[43mremote_protocol\u001b[49m\u001b[38;5;241;43m=\u001b[39;49m\u001b[38;5;124;43m\"\u001b[39;49m\u001b[38;5;124;43ms3\u001b[39;49m\u001b[38;5;124;43m\"\u001b[39;49m\u001b[43m,\u001b[49m\n\u001b[1;32m      4\u001b[0m \u001b[43m                      \u001b[49m\u001b[43mremote_options\u001b[49m\u001b[38;5;241;43m=\u001b[39;49m\u001b[43m{\u001b[49m\u001b[38;5;124;43m'\u001b[39;49m\u001b[38;5;124;43manon\u001b[39;49m\u001b[38;5;124;43m'\u001b[39;49m\u001b[43m:\u001b[49m\u001b[38;5;28;43;01mTrue\u001b[39;49;00m\u001b[43m}\u001b[49m\u001b[43m,\u001b[49m\u001b[43m \u001b[49m\u001b[38;5;66;43;03m# authentication parameters\u001b[39;49;00m\n\u001b[1;32m      5\u001b[0m \u001b[43m                      \u001b[49m\u001b[43mxarray_open_kwargs\u001b[49m\u001b[38;5;241;43m=\u001b[39;49m\u001b[43m{\u001b[49m\n\u001b[1;32m      6\u001b[0m \u001b[43m                          \u001b[49m\u001b[38;5;124;43m\"\u001b[39;49m\u001b[38;5;124;43mdecode_cf\u001b[39;49m\u001b[38;5;124;43m\"\u001b[39;49m\u001b[43m \u001b[49m\u001b[43m:\u001b[49m\u001b[43m \u001b[49m\u001b[38;5;28;43;01mFalse\u001b[39;49;00m\u001b[43m,\u001b[49m\n\u001b[1;32m      7\u001b[0m \u001b[43m                          \u001b[49m\u001b[38;5;124;43m\"\u001b[39;49m\u001b[38;5;124;43mmask_and_scale\u001b[39;49m\u001b[38;5;124;43m\"\u001b[39;49m\u001b[43m \u001b[49m\u001b[43m:\u001b[49m\u001b[43m \u001b[49m\u001b[38;5;28;43;01mFalse\u001b[39;49;00m\u001b[43m,\u001b[49m\n\u001b[1;32m      8\u001b[0m \u001b[43m                          \u001b[49m\u001b[38;5;124;43m\"\u001b[39;49m\u001b[38;5;124;43mdecode_times\u001b[39;49m\u001b[38;5;124;43m\"\u001b[39;49m\u001b[43m \u001b[49m\u001b[43m:\u001b[49m\u001b[43m \u001b[49m\u001b[38;5;28;43;01mFalse\u001b[39;49;00m\u001b[43m,\u001b[49m\n\u001b[1;32m      9\u001b[0m \u001b[43m                          \u001b[49m\u001b[38;5;124;43m\"\u001b[39;49m\u001b[38;5;124;43mdecode_timedelta\u001b[39;49m\u001b[38;5;124;43m\"\u001b[39;49m\u001b[43m \u001b[49m\u001b[43m:\u001b[49m\u001b[43m \u001b[49m\u001b[38;5;28;43;01mFalse\u001b[39;49;00m\u001b[43m,\u001b[49m\n\u001b[1;32m     10\u001b[0m \u001b[43m                          \u001b[49m\u001b[38;5;124;43m\"\u001b[39;49m\u001b[38;5;124;43muse_cftime\u001b[39;49m\u001b[38;5;124;43m\"\u001b[39;49m\u001b[43m \u001b[49m\u001b[43m:\u001b[49m\u001b[43m \u001b[49m\u001b[38;5;28;43;01mFalse\u001b[39;49;00m\u001b[43m,\u001b[49m\n\u001b[1;32m     11\u001b[0m \u001b[43m                          \u001b[49m\u001b[38;5;124;43m\"\u001b[39;49m\u001b[38;5;124;43mdecode_coords\u001b[39;49m\u001b[38;5;124;43m\"\u001b[39;49m\u001b[43m \u001b[49m\u001b[43m:\u001b[49m\u001b[43m \u001b[49m\u001b[38;5;28;43;01mFalse\u001b[39;49;00m\n\u001b[1;32m     12\u001b[0m \u001b[43m                        \u001b[49m\u001b[43m}\u001b[49m\u001b[43m,\u001b[49m\n\u001b[1;32m     13\u001b[0m \u001b[43m                        \u001b[49m\u001b[43mxarray_concat_args\u001b[49m\u001b[38;5;241;43m=\u001b[39;49m\u001b[43m{\u001b[49m\n\u001b[1;32m     14\u001b[0m \u001b[43m                            \u001b[49m\u001b[38;5;124;43m'\u001b[39;49m\u001b[38;5;124;43mdata_vars\u001b[39;49m\u001b[38;5;124;43m'\u001b[39;49m\u001b[43m \u001b[49m\u001b[43m:\u001b[49m\u001b[43m \u001b[49m\u001b[38;5;124;43m'\u001b[39;49m\u001b[38;5;124;43mminimal\u001b[39;49m\u001b[38;5;124;43m'\u001b[39;49m\u001b[43m,\u001b[49m\n\u001b[1;32m     15\u001b[0m \u001b[43m                            \u001b[49m\u001b[38;5;124;43m'\u001b[39;49m\u001b[38;5;124;43mcoords\u001b[39;49m\u001b[38;5;124;43m'\u001b[39;49m\u001b[43m \u001b[49m\u001b[43m:\u001b[49m\u001b[43m \u001b[49m\u001b[38;5;124;43m'\u001b[39;49m\u001b[38;5;124;43mminimal\u001b[39;49m\u001b[38;5;124;43m'\u001b[39;49m\u001b[43m,\u001b[49m\n\u001b[1;32m     16\u001b[0m \u001b[43m                            \u001b[49m\u001b[38;5;124;43m'\u001b[39;49m\u001b[38;5;124;43mcompat\u001b[39;49m\u001b[38;5;124;43m'\u001b[39;49m\u001b[43m \u001b[49m\u001b[43m:\u001b[49m\u001b[43m \u001b[49m\u001b[38;5;124;43m'\u001b[39;49m\u001b[38;5;124;43moverride\u001b[39;49m\u001b[38;5;124;43m'\u001b[39;49m\u001b[43m,\u001b[49m\n\u001b[1;32m     17\u001b[0m \u001b[43m                            \u001b[49m\u001b[38;5;124;43m'\u001b[39;49m\u001b[38;5;124;43mjoin\u001b[39;49m\u001b[38;5;124;43m'\u001b[39;49m\u001b[43m \u001b[49m\u001b[43m:\u001b[49m\u001b[43m \u001b[49m\u001b[38;5;124;43m'\u001b[39;49m\u001b[38;5;124;43moverride\u001b[39;49m\u001b[38;5;124;43m'\u001b[39;49m\u001b[43m,\u001b[49m\u001b[43m \u001b[49m\n\u001b[1;32m     18\u001b[0m \u001b[43m                            \u001b[49m\u001b[38;5;124;43m'\u001b[39;49m\u001b[38;5;124;43mcombine_attrs\u001b[39;49m\u001b[38;5;124;43m'\u001b[39;49m\u001b[43m \u001b[49m\u001b[43m:\u001b[49m\u001b[43m \u001b[49m\u001b[38;5;124;43m'\u001b[39;49m\u001b[38;5;124;43moverride\u001b[39;49m\u001b[38;5;124;43m'\u001b[39;49m\u001b[43m,\u001b[49m\n\u001b[1;32m     19\u001b[0m \u001b[43m                            \u001b[49m\u001b[38;5;124;43m'\u001b[39;49m\u001b[38;5;124;43mdim\u001b[39;49m\u001b[38;5;124;43m'\u001b[39;49m\u001b[43m \u001b[49m\u001b[43m:\u001b[49m\u001b[43m \u001b[49m\u001b[38;5;124;43m'\u001b[39;49m\u001b[38;5;124;43mtime\u001b[39;49m\u001b[38;5;124;43m'\u001b[39;49m\n\u001b[1;32m     20\u001b[0m \u001b[43m                        \u001b[49m\u001b[43m}\u001b[49m\n\u001b[1;32m     21\u001b[0m \u001b[43m                    \u001b[49m\u001b[43m)\u001b[49m\n",
      "\u001b[0;31mTypeError\u001b[0m: __init__() got an unexpected keyword argument 'xarray_open_kwargs'"
     ]
    }
   ],
   "source": [
    "json_list = sorted(glob(output_path+'/*.json'))\n",
    "mzz = MultiZarrToZarr(json_list,\n",
    "                      remote_protocol=\"s3\",\n",
    "                      remote_options={'anon':True}, # authentication parameters\n",
    "                      xarray_open_kwargs={\n",
    "                          \"decode_cf\" : False,\n",
    "                          \"mask_and_scale\" : False,\n",
    "                          \"decode_times\" : False,\n",
    "                          \"decode_timedelta\" : False,\n",
    "                          \"use_cftime\" : False,\n",
    "                          \"decode_coords\" : False\n",
    "                        },\n",
    "                        xarray_concat_args={\n",
    "                            'data_vars' : 'minimal',\n",
    "                            'coords' : 'minimal',\n",
    "                            'compat' : 'override',\n",
    "                            'join' : 'override', \n",
    "                            'combine_attrs' : 'override',\n",
    "                            'dim' : 'time'\n",
    "                        }\n",
    "                    )"
   ]
  },
  {
   "cell_type": "code",
   "execution_count": null,
   "id": "36071ef6-8832-45ad-9542-ff50d744884b",
   "metadata": {},
   "outputs": [],
   "source": [
    "json_list"
   ]
  },
  {
   "cell_type": "code",
   "execution_count": null,
   "id": "f2a976bc-0933-48c6-b986-71e3c44496ae",
   "metadata": {},
   "outputs": [],
   "source": []
  }
 ],
 "metadata": {
  "kernelspec": {
   "display_name": "Python 3 (ipykernel)",
   "language": "python",
   "name": "python3"
  },
  "language_info": {
   "codemirror_mode": {
    "name": "ipython",
    "version": 3
   },
   "file_extension": ".py",
   "mimetype": "text/x-python",
   "name": "python",
   "nbconvert_exporter": "python",
   "pygments_lexer": "ipython3",
   "version": "3.9.12"
  }
 },
 "nbformat": 4,
 "nbformat_minor": 5
}
