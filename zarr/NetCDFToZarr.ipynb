{
 "cells": [
  {
   "cell_type": "markdown",
   "id": "239d6d20-54c1-44da-b0e3-a6d665ecf910",
   "metadata": {},
   "source": [
    "## Harmony's NetCDF-to-Zarr service\n",
    "\n",
    "Example notebook: https://github.com/nasa/harmony-netcdf-to-zarr/blob/main/docs/NetCDF-to-Zarr-Example-Usage.ipynb\n",
    "\n",
    "### Authentication prerequisites:\n",
    "\n",
    "The harmony.Client class will attempt to use credentials from a local .netrc file, located in the home directory of the filesystem where this notebook is running. This will need to contain entries for Earthdata Login (at minimum for the UAT environment):\n",
    "\n",
    "`machine urs.earthdata.nasa.gov`\n",
    "    `login <prod_edl_username>`\n",
    "    `password <prod_edl_password>`\n",
    "\n",
    "`machine uat.urs.earthdata.nasa.gov`\n",
    "    `login <uat_edl_username>`\n",
    "    `password <uat_edl_password>`\n"
   ]
  },
  {
   "cell_type": "code",
   "execution_count": 1,
   "id": "ad648697-2176-4ccd-94c5-671b0f6a6588",
   "metadata": {},
   "outputs": [],
   "source": [
    "from datetime import datetime\n",
    "\n",
    "from harmony import Client, Collection, Environment, LinkType, Request\n",
    "from pprint import pprint\n",
    "from s3fs import S3FileSystem\n",
    "import matplotlib.pyplot as plt\n",
    "import xarray as xr"
   ]
  },
  {
   "cell_type": "markdown",
   "id": "238e1daa-af3e-4a40-b2b2-f966b90aae9c",
   "metadata": {},
   "source": [
    "### Setting up a Harmony client:\n",
    "\n",
    "In this notebook, requests will be made against test data in the UAT environment. First an instance of the harmony.Client class is created, which simplifies the interactions with the Harmony API, including request submission and retrieval of results."
   ]
  },
  {
   "cell_type": "code",
   "execution_count": 2,
   "id": "b9fd8ce6-6e2a-4aa2-a6b6-1c73844ca62f",
   "metadata": {},
   "outputs": [],
   "source": [
    "harmony_client = Client()#env=Environment.UAT)"
   ]
  },
  {
   "cell_type": "markdown",
   "id": "1b9344df-0d88-410b-888b-42ab50f8a107",
   "metadata": {},
   "source": [
    "### Setting up an S3 connection:\n",
    "\n",
    "The s3fs.S3FileSystem class creates a connection to S3, such that typical filesystem commands can be used against the contents of S3 (see documentation here). The same instance will be used to interact with the outputs from the requests in the notebook below. The credentials necessary to access Harmony outputs stored in AWS S3 can be generated using the harmony.Client class:"
   ]
  },
  {
   "cell_type": "code",
   "execution_count": 3,
   "id": "0b08e759-88fd-471b-abb5-f7d4e3e9c67f",
   "metadata": {},
   "outputs": [],
   "source": [
    "s3_credentials = harmony_client.aws_credentials()\n",
    "\n",
    "s3_fs = S3FileSystem(key=s3_credentials['aws_access_key_id'],\n",
    "                     secret=s3_credentials['aws_secret_access_key'],\n",
    "                     token=s3_credentials['aws_session_token'],\n",
    "                     client_kwargs={'region_name':'us-west-2'})"
   ]
  },
  {
   "cell_type": "markdown",
   "id": "8ecdd8ea-6f3e-4e9b-a576-8541ad01f4da",
   "metadata": {},
   "source": [
    "### Converting a single granule:\n",
    "\n",
    "The request below will make a request against the Harmony Example L2 Data collection. Each granule is a small NetCDF-4 file, with 4 science variables and swath dimension variables.\n",
    "\n",
    "First, a request is constructed via the harmony.Request class. In this request only the data collection, output format and number of granules will be specified. This request will create a Zarr store from the first granule in the collection.\n",
    "\n",
    "The request will then be submitted to the Harmony API using the harmony.Client object, and URLs for the results can be retrieved once the job is completed."
   ]
  },
  {
   "cell_type": "code",
   "execution_count": 5,
   "id": "d8c01ef8-49e4-40ec-85f0-1db676a7355c",
   "metadata": {},
   "outputs": [
    {
     "ename": "KeyError",
     "evalue": "'jobID'",
     "output_type": "error",
     "traceback": [
      "\u001b[0;31m---------------------------------------------------------------------------\u001b[0m",
      "\u001b[0;31mKeyError\u001b[0m                                  Traceback (most recent call last)",
      "Input \u001b[0;32mIn [5]\u001b[0m, in \u001b[0;36m<cell line: 8>\u001b[0;34m()\u001b[0m\n\u001b[1;32m      4\u001b[0m single_granule_request \u001b[38;5;241m=\u001b[39m Request(collection\u001b[38;5;241m=\u001b[39mcollection, \u001b[38;5;28mformat\u001b[39m\u001b[38;5;241m=\u001b[39m\u001b[38;5;124m'\u001b[39m\u001b[38;5;124mapplication/x-zarr\u001b[39m\u001b[38;5;124m'\u001b[39m,\n\u001b[1;32m      5\u001b[0m                                  granule_id\u001b[38;5;241m=\u001b[39m\u001b[38;5;124m'\u001b[39m\u001b[38;5;124mG1970102658-GES_DISC\u001b[39m\u001b[38;5;124m'\u001b[39m)\n\u001b[1;32m      7\u001b[0m \u001b[38;5;66;03m# Submit the request and wait for it to complete:\u001b[39;00m\n\u001b[0;32m----> 8\u001b[0m single_granule_job_id \u001b[38;5;241m=\u001b[39m \u001b[43mharmony_client\u001b[49m\u001b[38;5;241;43m.\u001b[39;49m\u001b[43msubmit\u001b[49m\u001b[43m(\u001b[49m\u001b[43msingle_granule_request\u001b[49m\u001b[43m)\u001b[49m\n\u001b[1;32m      9\u001b[0m harmony_client\u001b[38;5;241m.\u001b[39mwait_for_processing(single_granule_job_id, show_progress\u001b[38;5;241m=\u001b[39m\u001b[38;5;28;01mTrue\u001b[39;00m)\n\u001b[1;32m     11\u001b[0m \u001b[38;5;66;03m# Filter the results to only include links to resources in S3:\u001b[39;00m\n",
      "File \u001b[0;32m/srv/conda/envs/notebook/lib/python3.9/site-packages/harmony/harmony.py:564\u001b[0m, in \u001b[0;36mClient.submit\u001b[0;34m(self, request)\u001b[0m\n\u001b[1;32m    561\u001b[0m response \u001b[38;5;241m=\u001b[39m session\u001b[38;5;241m.\u001b[39msend(\u001b[38;5;28mself\u001b[39m\u001b[38;5;241m.\u001b[39m_get_prepared_request(request))\n\u001b[1;32m    563\u001b[0m \u001b[38;5;28;01mif\u001b[39;00m response\u001b[38;5;241m.\u001b[39mok:\n\u001b[0;32m--> 564\u001b[0m     job_id \u001b[38;5;241m=\u001b[39m \u001b[43m(\u001b[49m\u001b[43mresponse\u001b[49m\u001b[38;5;241;43m.\u001b[39;49m\u001b[43mjson\u001b[49m\u001b[43m(\u001b[49m\u001b[43m)\u001b[49m\u001b[43m)\u001b[49m\u001b[43m[\u001b[49m\u001b[38;5;124;43m'\u001b[39;49m\u001b[38;5;124;43mjobID\u001b[39;49m\u001b[38;5;124;43m'\u001b[39;49m\u001b[43m]\u001b[49m\n\u001b[1;32m    565\u001b[0m \u001b[38;5;28;01melse\u001b[39;00m:\n\u001b[1;32m    566\u001b[0m     response\u001b[38;5;241m.\u001b[39mraise_for_status()\n",
      "\u001b[0;31mKeyError\u001b[0m: 'jobID'"
     ]
    }
   ],
   "source": [
    "collection = Collection(id='C1276812863-GES_DISC')\n",
    "\n",
    "# Specify a request to create Zarr output for one granule in the collection:\n",
    "single_granule_request = Request(collection=collection, format='application/x-zarr',\n",
    "                                 granule_id='G1970102658-GES_DISC')\n",
    "\n",
    "# Submit the request and wait for it to complete:\n",
    "single_granule_job_id = harmony_client.submit(single_granule_request)\n",
    "harmony_client.wait_for_processing(single_granule_job_id, show_progress=True)\n",
    "\n",
    "# Filter the results to only include links to resources in S3:\n",
    "single_granule_result_urls = list(harmony_client.result_urls(single_granule_job_id, link_type=LinkType.s3))"
   ]
  },
  {
   "cell_type": "code",
   "execution_count": null,
   "id": "90c173fe-b922-4715-aef0-df4a167962a2",
   "metadata": {},
   "outputs": [],
   "source": []
  }
 ],
 "metadata": {
  "kernelspec": {
   "display_name": "Python 3 (ipykernel)",
   "language": "python",
   "name": "python3"
  },
  "language_info": {
   "codemirror_mode": {
    "name": "ipython",
    "version": 3
   },
   "file_extension": ".py",
   "mimetype": "text/x-python",
   "name": "python",
   "nbconvert_exporter": "python",
   "pygments_lexer": "ipython3",
   "version": "3.9.12"
  }
 },
 "nbformat": 4,
 "nbformat_minor": 5
}
