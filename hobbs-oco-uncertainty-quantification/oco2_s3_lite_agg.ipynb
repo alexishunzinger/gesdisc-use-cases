{
 "cells": [
  {
   "cell_type": "markdown",
   "id": "91486306-e553-4026-922c-4b96980a0945",
   "metadata": {},
   "source": [
    "# OCO-2 Data Access and Quick Aggregation\n",
    "\n",
    "### Author: Jon Hobbs\n",
    "### Date Authored: 10-13-23\n",
    "\n",
    "This notebook provides a quick demonstration on accessing and summarizing products from the Orbiting Carbon Observatory-2 (OCO-2) hosted via an Amazon S3 bucket. It demonstrates how to access an S3 bucket with the S3FS library, how to read data with xarray, and how to quickly compute and plot small-area aggregate estimates of atmospheric carbon dioxide.\n",
    "\n",
    "Additional resources for identifying S3 URLs for NASA datasets and for accessing them can be found in the GES DISC cloud tutorials\n",
    "\n",
    "* [Obtain a List of S3 URLs](https://github.com/nasa/gesdisc-tutorials/blob/main/cloud-tutorials/notebooks/How_to_Obtain_a_List_of_S3_URLs_for_a_GES_DISC_Collection_Using_the_CMR_API.ipynb)\n",
    "* [Accessing MERRA-2 from S3 Bucket](https://github.com/nasa/gesdisc-tutorials/blob/main/cloud-tutorials/notebooks/How_to_Directly_Access_MERRA-2_Data_from_an_S3_Bucket.ipynb)\n"
   ]
  },
  {
   "cell_type": "markdown",
   "id": "e9949084-f4fc-4e7b-b2aa-1c795d43ed71",
   "metadata": {},
   "source": [
    "## Import Libraries"
   ]
  },
  {
   "cell_type": "code",
   "execution_count": 1,
   "id": "e3dd5189-4f39-4f7f-afe7-b712bd206bb9",
   "metadata": {
    "tags": []
   },
   "outputs": [],
   "source": [
    "import requests"
   ]
  },
  {
   "cell_type": "markdown",
   "id": "d06694d8-c2a4-4f97-975f-69c75a689071",
   "metadata": {},
   "source": [
    "## Create a Function for CMR Catalog Requests"
   ]
  },
  {
   "cell_type": "code",
   "execution_count": 2,
   "id": "96df53c9-3e57-421d-bdf5-399b377f5241",
   "metadata": {
    "tags": []
   },
   "outputs": [],
   "source": [
    "def cmr_request(params):\n",
    "    response = requests.get(url,\n",
    "                        params=params,\n",
    "                        headers={\n",
    "                            'Accept': 'application/json',\n",
    "                        }\n",
    "                       )\n",
    "    return response"
   ]
  },
  {
   "cell_type": "markdown",
   "id": "4fe7a0fa-9eac-4409-b0c0-a3bf7cac61c3",
   "metadata": {},
   "source": [
    "## Search CMR Catalogs and Obtain S3 URLs\n",
    "\n",
    "### Check that the CMR catalog can be accessed\n",
    "\n",
    "If \"200, CMR is accessible\" is returned, the catalog can be accessed!"
   ]
  },
  {
   "cell_type": "code",
   "execution_count": 3,
   "id": "bcbe55e1-81ca-417b-a020-da39c55fb214",
   "metadata": {
    "tags": []
   },
   "outputs": [
    {
     "name": "stdout",
     "output_type": "stream",
     "text": [
      "200, CMR is accessible\n"
     ]
    }
   ],
   "source": [
    "url = 'https://cmr.earthdata.nasa.gov/search/collections'\n",
    "\n",
    "# Create our request for finding cloud-hosted granules, and check that we can access CMR\n",
    "response = cmr_request({\n",
    "                        'cloud_hosted': 'True',\n",
    "                        'has_granules': 'True'\n",
    "                        })\n",
    "\n",
    "if response.status_code == 200:\n",
    "    print(str(response.status_code) + \", CMR is accessible\")\n",
    "else:\n",
    "    print(str(response.status_code) + \", CMR is not accessible, check for outages\")"
   ]
  },
  {
   "cell_type": "markdown",
   "id": "843483ef-bb38-4de3-ab4c-99af6b55f44a",
   "metadata": {},
   "source": [
    "### Search for OCO-2 Products\n",
    "\n",
    "Request the desired OCO-2 products for specified date range. Here the search is by the product's short name. The [OCO-2 \"lite\" CO2 product](https://doi.org/10.5067/8E4VLCK16O6Q) is used for this analysis. "
   ]
  },
  {
   "cell_type": "code",
   "execution_count": 4,
   "id": "e84881b8-fddb-4071-b6f5-bc36dd46405d",
   "metadata": {
    "tags": []
   },
   "outputs": [],
   "source": [
    "url = 'https://cmr.earthdata.nasa.gov/search/granules'\n",
    "\n",
    "short_name = 'OCO2_L2_Lite_FP'\n",
    "\n",
    "start_time = '2020-07-05T00:00:00Z'\n",
    "end_time = '2020-07-07T00:00:00Z'\n",
    "\n",
    "# OPTION 1: Using shortname\n",
    "response = cmr_request({\n",
    "                        'short_name': short_name,\n",
    "                        'temporal': start_time+','+end_time,\n",
    "                        'page_size': 200\n",
    "                        })\n",
    "\n",
    "\n",
    "granules = response.json()['feed']['entry']"
   ]
  },
  {
   "cell_type": "code",
   "execution_count": 5,
   "id": "1b2b8122-d02d-4736-886a-220d5bc75ae4",
   "metadata": {
    "tags": []
   },
   "outputs": [],
   "source": [
    "s3_urls = []\n",
    "for granule in granules:\n",
    "    s3_urls.append(next((item['href'] for item in granule['links'] if item[\"href\"].startswith(\"s3://\")), None))\n"
   ]
  },
  {
   "cell_type": "code",
   "execution_count": 6,
   "id": "a6982bd9-a6f0-4a6f-8c28-3f5baa8fdb4d",
   "metadata": {
    "tags": []
   },
   "outputs": [
    {
     "data": {
      "text/plain": [
       "['s3://gesdisc-cumulus-prod-protected/OCO2_DATA/OCO2_L2_Lite_FP.10r/2020/oco2_LtCO2_200704_B10206Ar_210920045830s.nc4',\n",
       " 's3://gesdisc-cumulus-prod-protected/OCO2_DATA/OCO2_L2_Lite_FP.11r/2020/oco2_LtCO2_200704_B11014Ar_220825215350s.nc4',\n",
       " 's3://gesdisc-cumulus-prod-protected/OCO2_DATA/OCO2_L2_Lite_FP.11.1r/2020/oco2_LtCO2_200704_B11100Ar_230603215457s.nc4',\n",
       " 's3://gesdisc-cumulus-prod-protected/OCO2_DATA/OCO2_L2_Lite_FP.10r/2020/oco2_LtCO2_200705_B10206Ar_210920045843s.nc4',\n",
       " 's3://gesdisc-cumulus-prod-protected/OCO2_DATA/OCO2_L2_Lite_FP.11r/2020/oco2_LtCO2_200705_B11014Ar_220825215420s.nc4',\n",
       " 's3://gesdisc-cumulus-prod-protected/OCO2_DATA/OCO2_L2_Lite_FP.11.1r/2020/oco2_LtCO2_200705_B11100Ar_230603215543s.nc4',\n",
       " 's3://gesdisc-cumulus-prod-protected/OCO2_DATA/OCO2_L2_Lite_FP.10r/2020/oco2_LtCO2_200706_B10206Ar_210920050303s.nc4',\n",
       " 's3://gesdisc-cumulus-prod-protected/OCO2_DATA/OCO2_L2_Lite_FP.11r/2020/oco2_LtCO2_200706_B11014Ar_220825215453s.nc4',\n",
       " 's3://gesdisc-cumulus-prod-protected/OCO2_DATA/OCO2_L2_Lite_FP.11.1r/2020/oco2_LtCO2_200706_B11100Ar_230603215547s.nc4',\n",
       " 's3://gesdisc-cumulus-prod-protected/OCO2_DATA/OCO2_L2_Lite_FP.10r/2020/oco2_LtCO2_200707_B10206Ar_210920050332s.nc4',\n",
       " 's3://gesdisc-cumulus-prod-protected/OCO2_DATA/OCO2_L2_Lite_FP.11r/2020/oco2_LtCO2_200707_B11014Ar_220825215526s.nc4',\n",
       " 's3://gesdisc-cumulus-prod-protected/OCO2_DATA/OCO2_L2_Lite_FP.11.1r/2020/oco2_LtCO2_200707_B11100Ar_230603215704s.nc4']"
      ]
     },
     "execution_count": 6,
     "metadata": {},
     "output_type": "execute_result"
    }
   ],
   "source": [
    "s3_urls"
   ]
  },
  {
   "cell_type": "markdown",
   "id": "d4edeb4b-682e-44bb-91af-93f96804ab0d",
   "metadata": {},
   "source": [
    "### Subset by Data Version\n",
    "\n",
    "We only need the latest data version of the products (11.1r)"
   ]
  },
  {
   "cell_type": "code",
   "execution_count": 7,
   "id": "6eb7a2e5-13c5-4945-99d8-41a805c490af",
   "metadata": {
    "tags": []
   },
   "outputs": [],
   "source": [
    "# Try subsetting by version\n",
    "response = cmr_request({\n",
    "                        'short_name': short_name,\n",
    "                        'version': '11.1r',\n",
    "                        'temporal': start_time+','+end_time,\n",
    "                        'page_size': 200\n",
    "                        })\n",
    "\n",
    "\n",
    "granv11 = response.json()['feed']['entry']"
   ]
  },
  {
   "cell_type": "code",
   "execution_count": 8,
   "id": "89adfb86-536b-489c-be20-824dfd7d52f3",
   "metadata": {
    "tags": []
   },
   "outputs": [],
   "source": [
    "s3_urls_v11 = []\n",
    "for granule in granv11:\n",
    "    s3_urls_v11.append(next((item['href'] for item in granule['links'] if item[\"href\"].startswith(\"s3://\")), None))\n"
   ]
  },
  {
   "cell_type": "code",
   "execution_count": 9,
   "id": "0912b4fe-8176-455e-af69-97e437139c39",
   "metadata": {
    "tags": []
   },
   "outputs": [
    {
     "data": {
      "text/plain": [
       "['s3://gesdisc-cumulus-prod-protected/OCO2_DATA/OCO2_L2_Lite_FP.11.1r/2020/oco2_LtCO2_200704_B11100Ar_230603215457s.nc4',\n",
       " 's3://gesdisc-cumulus-prod-protected/OCO2_DATA/OCO2_L2_Lite_FP.11.1r/2020/oco2_LtCO2_200705_B11100Ar_230603215543s.nc4',\n",
       " 's3://gesdisc-cumulus-prod-protected/OCO2_DATA/OCO2_L2_Lite_FP.11.1r/2020/oco2_LtCO2_200706_B11100Ar_230603215547s.nc4',\n",
       " 's3://gesdisc-cumulus-prod-protected/OCO2_DATA/OCO2_L2_Lite_FP.11.1r/2020/oco2_LtCO2_200707_B11100Ar_230603215704s.nc4']"
      ]
     },
     "execution_count": 9,
     "metadata": {},
     "output_type": "execute_result"
    }
   ],
   "source": [
    "s3_urls_v11"
   ]
  },
  {
   "cell_type": "markdown",
   "id": "5c268914-8111-4419-81d2-499deb948d18",
   "metadata": {},
   "source": [
    "## Open files and aggregate"
   ]
  },
  {
   "cell_type": "code",
   "execution_count": 10,
   "id": "4c308f16-b175-46b4-bed9-ae35b525f810",
   "metadata": {
    "tags": []
   },
   "outputs": [],
   "source": [
    "from netrc import netrc\n",
    "from subprocess import Popen\n",
    "from platform import system\n",
    "from getpass import getpass\n",
    "import os\n",
    "import requests\n",
    "import xarray as xr\n",
    "import s3fs\n",
    "import boto3"
   ]
  },
  {
   "cell_type": "markdown",
   "id": "bdfd52f8-4d2c-4973-86c9-0a213f04fecf",
   "metadata": {},
   "source": [
    "### Get S3 Token\n",
    "\n",
    "This step requires a valid .netrc file"
   ]
  },
  {
   "cell_type": "code",
   "execution_count": 11,
   "id": "a42d6cc0-f3c5-4988-ad45-ce5287b2ee5a",
   "metadata": {
    "tags": []
   },
   "outputs": [
    {
     "data": {
      "text/plain": [
       "s3fs.core.S3FileSystem"
      ]
     },
     "execution_count": 11,
     "metadata": {},
     "output_type": "execute_result"
    }
   ],
   "source": [
    "gesdisc_s3 = \"https://data.gesdisc.earthdata.nasa.gov/s3credentials\"\n",
    "\n",
    "# Define a function for S3 access credentials\n",
    "\n",
    "def begin_s3_direct_access(url: str=gesdisc_s3):\n",
    "    response = requests.get(url).json()\n",
    "    return s3fs.S3FileSystem(key=response['accessKeyId'],\n",
    "                             secret=response['secretAccessKey'],\n",
    "                             token=response['sessionToken'],\n",
    "                             client_kwargs={'region_name':'us-west-2'})\n",
    "\n",
    "fs = begin_s3_direct_access()\n",
    "\n",
    "# Check that the file system is intact as an S3FileSystem object, which means that token is valid\n",
    "# Common causes of rejected S3 access tokens include incorrect passwords stored in the netrc file, or a non-existent netrc file\n",
    "type(fs)"
   ]
  },
  {
   "cell_type": "markdown",
   "id": "4d592ff0-6f4e-4b11-bd65-574c6ea88050",
   "metadata": {},
   "source": [
    "By calling `fs.info()` with S3FS, we can see some of the metadata assigned to files uploaded to S3 buckets."
   ]
  },
  {
   "cell_type": "code",
   "execution_count": 12,
   "id": "906b787b-205b-4314-b4c8-f6791fd33f00",
   "metadata": {
    "tags": []
   },
   "outputs": [
    {
     "data": {
      "text/plain": [
       "{'ETag': '\"d874bac500d8a2ee0030409a5445be5d-1\"',\n",
       " 'LastModified': datetime.datetime(2023, 6, 29, 20, 22, 20, tzinfo=tzutc()),\n",
       " 'size': 61120215,\n",
       " 'name': 'gesdisc-cumulus-prod-protected/OCO2_DATA/OCO2_L2_Lite_FP.11.1r/2020/oco2_LtCO2_200704_B11100Ar_230603215457s.nc4',\n",
       " 'type': 'file',\n",
       " 'StorageClass': 'STANDARD',\n",
       " 'VersionId': None,\n",
       " 'ContentType': 'binary/octet-stream'}"
      ]
     },
     "execution_count": 12,
     "metadata": {},
     "output_type": "execute_result"
    }
   ],
   "source": [
    "fs.info(s3_urls_v11[0])"
   ]
  },
  {
   "cell_type": "code",
   "execution_count": 13,
   "id": "d14e6bc3-540f-4e01-83fd-53acf8961d39",
   "metadata": {
    "tags": []
   },
   "outputs": [],
   "source": [
    "### Access dataset\n",
    "\n",
    "import pandas\n",
    "import numpy\n",
    "\n",
    "ltnc = xr.open_dataset(fs.open(s3_urls_v11[0]),\n",
    "                     decode_cf=True,)\n",
    "ltsdg = ltnc.sounding_id.values[:]\n",
    "ltlat = ltnc.latitude.values[:]\n",
    "ltlon = ltnc.longitude.values[:]\n",
    "ltxco2 = ltnc.xco2.values[:]\n",
    "ltflg = ltnc.xco2_quality_flag[:]\n",
    "ltnc.close()\n",
    "\n",
    "ltfrm = pandas.DataFrame({'SoundingID': ltsdg, \n",
    "                          'Latitude': ltlat, 'Longitude': ltlon, 'XCO2': ltxco2, 'V11QFlag': ltflg})\n",
    "ltfrm['Sdg10s'] = numpy.floor(ltfrm['SoundingID'] / 1.0e3)\n",
    "ltfrm = ltfrm[ltfrm['V11QFlag'] == 0]\n"
   ]
  },
  {
   "cell_type": "code",
   "execution_count": 14,
   "id": "68e05289-97e7-433f-9c52-f019284a6270",
   "metadata": {
    "tags": []
   },
   "outputs": [
    {
     "data": {
      "text/plain": [
       "array([2.0200704e+15, 2.0200704e+15, 2.0200704e+15, 2.0200704e+15,\n",
       "       2.0200704e+15, 2.0200704e+15, 2.0200704e+15, 2.0200704e+15,\n",
       "       2.0200704e+15, 2.0200704e+15])"
      ]
     },
     "execution_count": 14,
     "metadata": {},
     "output_type": "execute_result"
    }
   ],
   "source": [
    "ltsdg[300:310]"
   ]
  },
  {
   "cell_type": "code",
   "execution_count": 15,
   "id": "22926056-7fc4-41d4-8939-4eaed13c155f",
   "metadata": {
    "tags": []
   },
   "outputs": [
    {
     "data": {
      "text/html": [
       "<div>\n",
       "<style scoped>\n",
       "    .dataframe tbody tr th:only-of-type {\n",
       "        vertical-align: middle;\n",
       "    }\n",
       "\n",
       "    .dataframe tbody tr th {\n",
       "        vertical-align: top;\n",
       "    }\n",
       "\n",
       "    .dataframe thead th {\n",
       "        text-align: right;\n",
       "    }\n",
       "</style>\n",
       "<table border=\"1\" class=\"dataframe\">\n",
       "  <thead>\n",
       "    <tr style=\"text-align: right;\">\n",
       "      <th></th>\n",
       "      <th>SoundingID</th>\n",
       "      <th>Latitude</th>\n",
       "      <th>Longitude</th>\n",
       "      <th>XCO2</th>\n",
       "      <th>V11QFlag</th>\n",
       "      <th>Sdg10s</th>\n",
       "    </tr>\n",
       "  </thead>\n",
       "  <tbody>\n",
       "    <tr>\n",
       "      <th>2463</th>\n",
       "      <td>2.020070e+15</td>\n",
       "      <td>-1.506785</td>\n",
       "      <td>-160.217636</td>\n",
       "      <td>412.424652</td>\n",
       "      <td>0.0</td>\n",
       "      <td>2.020070e+12</td>\n",
       "    </tr>\n",
       "    <tr>\n",
       "      <th>2464</th>\n",
       "      <td>2.020070e+15</td>\n",
       "      <td>-1.506549</td>\n",
       "      <td>-160.230682</td>\n",
       "      <td>413.083435</td>\n",
       "      <td>0.0</td>\n",
       "      <td>2.020070e+12</td>\n",
       "    </tr>\n",
       "    <tr>\n",
       "      <th>2465</th>\n",
       "      <td>2.020070e+15</td>\n",
       "      <td>-1.487572</td>\n",
       "      <td>-160.143677</td>\n",
       "      <td>412.624329</td>\n",
       "      <td>0.0</td>\n",
       "      <td>2.020070e+12</td>\n",
       "    </tr>\n",
       "    <tr>\n",
       "      <th>2466</th>\n",
       "      <td>2.020070e+15</td>\n",
       "      <td>-1.487918</td>\n",
       "      <td>-160.156540</td>\n",
       "      <td>412.501129</td>\n",
       "      <td>0.0</td>\n",
       "      <td>2.020070e+12</td>\n",
       "    </tr>\n",
       "    <tr>\n",
       "      <th>2467</th>\n",
       "      <td>2.020070e+15</td>\n",
       "      <td>-1.488164</td>\n",
       "      <td>-160.169495</td>\n",
       "      <td>413.055634</td>\n",
       "      <td>0.0</td>\n",
       "      <td>2.020070e+12</td>\n",
       "    </tr>\n",
       "    <tr>\n",
       "      <th>2468</th>\n",
       "      <td>2.020070e+15</td>\n",
       "      <td>-1.488305</td>\n",
       "      <td>-160.182510</td>\n",
       "      <td>413.339905</td>\n",
       "      <td>0.0</td>\n",
       "      <td>2.020070e+12</td>\n",
       "    </tr>\n",
       "    <tr>\n",
       "      <th>2469</th>\n",
       "      <td>2.020070e+15</td>\n",
       "      <td>-1.488338</td>\n",
       "      <td>-160.195465</td>\n",
       "      <td>413.239349</td>\n",
       "      <td>0.0</td>\n",
       "      <td>2.020070e+12</td>\n",
       "    </tr>\n",
       "    <tr>\n",
       "      <th>2470</th>\n",
       "      <td>2.020070e+15</td>\n",
       "      <td>-1.488284</td>\n",
       "      <td>-160.208466</td>\n",
       "      <td>412.659668</td>\n",
       "      <td>0.0</td>\n",
       "      <td>2.020070e+12</td>\n",
       "    </tr>\n",
       "    <tr>\n",
       "      <th>2471</th>\n",
       "      <td>2.020070e+15</td>\n",
       "      <td>-1.488145</td>\n",
       "      <td>-160.221497</td>\n",
       "      <td>412.457611</td>\n",
       "      <td>0.0</td>\n",
       "      <td>2.020070e+12</td>\n",
       "    </tr>\n",
       "    <tr>\n",
       "      <th>2472</th>\n",
       "      <td>2.020070e+15</td>\n",
       "      <td>-1.487921</td>\n",
       "      <td>-160.234543</td>\n",
       "      <td>411.982330</td>\n",
       "      <td>0.0</td>\n",
       "      <td>2.020070e+12</td>\n",
       "    </tr>\n",
       "  </tbody>\n",
       "</table>\n",
       "</div>"
      ],
      "text/plain": [
       "        SoundingID  Latitude   Longitude        XCO2  V11QFlag        Sdg10s\n",
       "2463  2.020070e+15 -1.506785 -160.217636  412.424652       0.0  2.020070e+12\n",
       "2464  2.020070e+15 -1.506549 -160.230682  413.083435       0.0  2.020070e+12\n",
       "2465  2.020070e+15 -1.487572 -160.143677  412.624329       0.0  2.020070e+12\n",
       "2466  2.020070e+15 -1.487918 -160.156540  412.501129       0.0  2.020070e+12\n",
       "2467  2.020070e+15 -1.488164 -160.169495  413.055634       0.0  2.020070e+12\n",
       "2468  2.020070e+15 -1.488305 -160.182510  413.339905       0.0  2.020070e+12\n",
       "2469  2.020070e+15 -1.488338 -160.195465  413.239349       0.0  2.020070e+12\n",
       "2470  2.020070e+15 -1.488284 -160.208466  412.659668       0.0  2.020070e+12\n",
       "2471  2.020070e+15 -1.488145 -160.221497  412.457611       0.0  2.020070e+12\n",
       "2472  2.020070e+15 -1.487921 -160.234543  411.982330       0.0  2.020070e+12"
      ]
     },
     "execution_count": 15,
     "metadata": {},
     "output_type": "execute_result"
    }
   ],
   "source": [
    "ltfrm[1580:1590]"
   ]
  },
  {
   "cell_type": "markdown",
   "id": "6c97879f-9e12-4445-b107-a31862df6af6",
   "metadata": {},
   "source": [
    "### Group and Summarize"
   ]
  },
  {
   "cell_type": "code",
   "execution_count": 16,
   "id": "afd177ba-ffc7-405b-a2e6-416baf67e467",
   "metadata": {
    "tags": []
   },
   "outputs": [],
   "source": [
    "def qsummary(df,grpvr,vrlst):\n",
    "    # Summarize with quantiles\n",
    "    nmtch = df.shape[0] \n",
    "    dfout = pandas.DataFrame({'NSmp' : nmtch}, index=[0])\n",
    "    #dfout[grpvr] = df[grpvr].values[0]\n",
    "    for j in range(len(vrlst)):\n",
    "        tmpdt = df[vrlst[j]]\n",
    "        dtvld = tmpdt[numpy.isfinite(tmpdt)]\n",
    "        dtvld = dtvld[dtvld != 0.0]\n",
    "        vrnm = '%s_Med' % (vrlst[j])\n",
    "        dfout[vrnm] = numpy.median(dtvld)\n",
    "\n",
    "    return dfout\n",
    "\n",
    "grpoco = ltfrm.groupby(['Sdg10s'])\n",
    "ocoqs = grpoco.apply(qsummary,grpvr='Sdg10s',vrlst=['XCO2','Latitude','Longitude'])\n",
    "ocoqs.reset_index(drop=False,inplace=True)"
   ]
  },
  {
   "cell_type": "code",
   "execution_count": 17,
   "id": "42a07212-e733-486b-8942-715b204324ac",
   "metadata": {
    "tags": []
   },
   "outputs": [
    {
     "data": {
      "text/plain": [
       "(1037, 6)"
      ]
     },
     "execution_count": 17,
     "metadata": {},
     "output_type": "execute_result"
    }
   ],
   "source": [
    "ocoqs.shape"
   ]
  },
  {
   "cell_type": "code",
   "execution_count": 18,
   "id": "69edd8e8-1142-4b89-88a7-d77a2a95728d",
   "metadata": {
    "tags": []
   },
   "outputs": [
    {
     "data": {
      "text/html": [
       "<div>\n",
       "<style scoped>\n",
       "    .dataframe tbody tr th:only-of-type {\n",
       "        vertical-align: middle;\n",
       "    }\n",
       "\n",
       "    .dataframe tbody tr th {\n",
       "        vertical-align: top;\n",
       "    }\n",
       "\n",
       "    .dataframe thead th {\n",
       "        text-align: right;\n",
       "    }\n",
       "</style>\n",
       "<table border=\"1\" class=\"dataframe\">\n",
       "  <thead>\n",
       "    <tr style=\"text-align: right;\">\n",
       "      <th></th>\n",
       "      <th>Sdg10s</th>\n",
       "      <th>level_1</th>\n",
       "      <th>NSmp</th>\n",
       "      <th>XCO2_Med</th>\n",
       "      <th>Latitude_Med</th>\n",
       "      <th>Longitude_Med</th>\n",
       "    </tr>\n",
       "  </thead>\n",
       "  <tbody>\n",
       "    <tr>\n",
       "      <th>300</th>\n",
       "      <td>2.020070e+12</td>\n",
       "      <td>0</td>\n",
       "      <td>211</td>\n",
       "      <td>411.343292</td>\n",
       "      <td>-34.974350</td>\n",
       "      <td>83.259407</td>\n",
       "    </tr>\n",
       "    <tr>\n",
       "      <th>301</th>\n",
       "      <td>2.020070e+12</td>\n",
       "      <td>0</td>\n",
       "      <td>225</td>\n",
       "      <td>411.440979</td>\n",
       "      <td>-34.475979</td>\n",
       "      <td>83.144669</td>\n",
       "    </tr>\n",
       "    <tr>\n",
       "      <th>302</th>\n",
       "      <td>2.020070e+12</td>\n",
       "      <td>0</td>\n",
       "      <td>50</td>\n",
       "      <td>411.589813</td>\n",
       "      <td>-34.133720</td>\n",
       "      <td>83.068466</td>\n",
       "    </tr>\n",
       "    <tr>\n",
       "      <th>303</th>\n",
       "      <td>2.020070e+12</td>\n",
       "      <td>0</td>\n",
       "      <td>1</td>\n",
       "      <td>411.468750</td>\n",
       "      <td>-33.480385</td>\n",
       "      <td>82.930206</td>\n",
       "    </tr>\n",
       "    <tr>\n",
       "      <th>304</th>\n",
       "      <td>2.020070e+12</td>\n",
       "      <td>0</td>\n",
       "      <td>3</td>\n",
       "      <td>412.202911</td>\n",
       "      <td>-32.105137</td>\n",
       "      <td>82.683243</td>\n",
       "    </tr>\n",
       "    <tr>\n",
       "      <th>305</th>\n",
       "      <td>2.020070e+12</td>\n",
       "      <td>0</td>\n",
       "      <td>59</td>\n",
       "      <td>411.530396</td>\n",
       "      <td>-31.759081</td>\n",
       "      <td>82.493492</td>\n",
       "    </tr>\n",
       "    <tr>\n",
       "      <th>306</th>\n",
       "      <td>2.020070e+12</td>\n",
       "      <td>0</td>\n",
       "      <td>52</td>\n",
       "      <td>411.668304</td>\n",
       "      <td>-31.103306</td>\n",
       "      <td>82.426590</td>\n",
       "    </tr>\n",
       "    <tr>\n",
       "      <th>307</th>\n",
       "      <td>2.020070e+12</td>\n",
       "      <td>0</td>\n",
       "      <td>152</td>\n",
       "      <td>411.182861</td>\n",
       "      <td>-30.686695</td>\n",
       "      <td>82.303864</td>\n",
       "    </tr>\n",
       "    <tr>\n",
       "      <th>308</th>\n",
       "      <td>2.020070e+12</td>\n",
       "      <td>0</td>\n",
       "      <td>68</td>\n",
       "      <td>411.071533</td>\n",
       "      <td>-30.234549</td>\n",
       "      <td>82.205315</td>\n",
       "    </tr>\n",
       "    <tr>\n",
       "      <th>309</th>\n",
       "      <td>2.020070e+12</td>\n",
       "      <td>0</td>\n",
       "      <td>51</td>\n",
       "      <td>410.795319</td>\n",
       "      <td>-29.528667</td>\n",
       "      <td>82.041924</td>\n",
       "    </tr>\n",
       "  </tbody>\n",
       "</table>\n",
       "</div>"
      ],
      "text/plain": [
       "           Sdg10s  level_1  NSmp    XCO2_Med  Latitude_Med  Longitude_Med\n",
       "300  2.020070e+12        0   211  411.343292    -34.974350      83.259407\n",
       "301  2.020070e+12        0   225  411.440979    -34.475979      83.144669\n",
       "302  2.020070e+12        0    50  411.589813    -34.133720      83.068466\n",
       "303  2.020070e+12        0     1  411.468750    -33.480385      82.930206\n",
       "304  2.020070e+12        0     3  412.202911    -32.105137      82.683243\n",
       "305  2.020070e+12        0    59  411.530396    -31.759081      82.493492\n",
       "306  2.020070e+12        0    52  411.668304    -31.103306      82.426590\n",
       "307  2.020070e+12        0   152  411.182861    -30.686695      82.303864\n",
       "308  2.020070e+12        0    68  411.071533    -30.234549      82.205315\n",
       "309  2.020070e+12        0    51  410.795319    -29.528667      82.041924"
      ]
     },
     "execution_count": 18,
     "metadata": {},
     "output_type": "execute_result"
    }
   ],
   "source": [
    "ocoqs[300:310]"
   ]
  },
  {
   "cell_type": "code",
   "execution_count": 19,
   "id": "1609ce40-a392-4649-abd5-7e31ab02ccca",
   "metadata": {
    "tags": []
   },
   "outputs": [],
   "source": [
    "# Subset\n",
    "ocoqs = ocoqs[ocoqs['NSmp'] > 30]"
   ]
  },
  {
   "cell_type": "code",
   "execution_count": 20,
   "id": "d2543851-fc19-4545-a736-666bcbd825a3",
   "metadata": {
    "tags": []
   },
   "outputs": [
    {
     "data": {
      "image/png": "[encoded data removed]",
      "text/plain": [
       "<Figure size 640x480 with 1 Axes>"
      ]
     },
     "metadata": {},
     "output_type": "display_data"
    }
   ],
   "source": [
    "# Plotting, mapping libraries\n",
    "\n",
    "import cartopy.crs as ccrs\n",
    "import cartopy.feature as cfeature\n",
    "import matplotlib.pyplot as plt\n",
    "\n",
    "%matplotlib inline\n",
    "trnsfrm = ccrs.PlateCarree()\n",
    "\n",
    "# Set up figure\n",
    "fig = plt.figure()\n",
    "\n",
    "pmp = fig.add_subplot(1,1,1, projection=ccrs.Robinson())\n",
    "cs = plt.scatter(ocoqs['Longitude_Med'],ocoqs['Latitude_Med'],s=3, c=ocoqs['XCO2_Med'], transform = trnsfrm)\n",
    "#cs = pyplot.pcolormesh(lnarr,ltarr,ctarr[j,:,:],vmin=0,vmax=6000,transform = trnsfrm,cmap=cmpvic)\n",
    "pmp.coastlines(color='#777777',linewidth=0.5)\n",
    "pmp.scatter([-180,180,0,0],[0,0,-90,90],s=0.01,c=None,transform=trnsfrm)\n",
    "plt.show()"
   ]
  }
 ],
 "metadata": {
  "kernelspec": {
   "display_name": "Python 3 (ipykernel)",
   "language": "python",
   "name": "python3"
  },
  "language_info": {
   "codemirror_mode": {
    "name": "ipython",
    "version": 3
   },
   "file_extension": ".py",
   "mimetype": "text/x-python",
   "name": "python",
   "nbconvert_exporter": "python",
   "pygments_lexer": "ipython3",
   "version": "3.10.12"
  }
 },
 "nbformat": 4,
 "nbformat_minor": 5
}
