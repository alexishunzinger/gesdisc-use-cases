{
 "cells": [
  {
   "cell_type": "markdown",
   "id": "6b1d48b0-df4e-476e-b2b3-496f27b18ae4",
   "metadata": {},
   "source": [
    "# OCO-2 Data Access and Quick Aggregation\n",
    "\n",
    "## Author: Jon Hobbs\n",
    "## Date Authored: 1-18-24\n",
    "\n",
    "This notebook provides a quick demonstration on accessing and summarizing products from the Orbiting Carbon Observatory-2 (OCO-2) hosted via an Amazon S3 bucket. It demonstrates how to access an S3 bucket with the S3FS library, how to read data with xarray, and how to quickly compute and plot small-area aggregate estimates of atmospheric carbon dioxide."
   ]
  },
  {
   "cell_type": "markdown",
   "id": "a4bbc69e-56be-4900-ab47-52c83ab6855f",
   "metadata": {},
   "source": [
    "## Import Libraries and Set Up CMR"
   ]
  },
  {
   "cell_type": "code",
   "execution_count": 1,
   "id": "3c490f7a-2a65-4f4a-9fe9-1ec22337775f",
   "metadata": {
    "tags": []
   },
   "outputs": [],
   "source": [
    "import requests\n",
    "\n",
    "def cmr_request(params):\n",
    "    response = requests.get(url,\n",
    "                        params=params,\n",
    "                        headers={\n",
    "                            'Accept': 'application/json',\n",
    "                        }\n",
    "                       )\n",
    "    return response\n"
   ]
  },
  {
   "cell_type": "markdown",
   "id": "6c8be069-d7d4-4b91-82e1-d744aa963a3c",
   "metadata": {},
   "source": [
    "## Obtain S3 URLs\n",
    "\n",
    "This notebook works with OCO-2 data in a one-month block. The relevant datasets are available at daily resolution\n",
    "\n"
   ]
  },
  {
   "cell_type": "code",
   "execution_count": 3,
   "id": "7a365343-4907-4b24-9468-684167c2e6a7",
   "metadata": {
    "tags": []
   },
   "outputs": [],
   "source": [
    "url = 'https://cmr.earthdata.nasa.gov/search/granules'\n",
    "\n",
    "short_name = 'OCO2_L2_Lite_FP'\n",
    "\n",
    "start_time = '2020-05-01T00:00:00Z'\n",
    "end_time = '2020-06-01T00:00:00Z'\n",
    "mthstr = 'LtCO2_2005'\n",
    "\n",
    "# OPTION 1: Using shortname\n",
    "response = cmr_request({\n",
    "                        'short_name': short_name,\n",
    "                        'temporal': start_time+','+end_time,\n",
    "                        'version': '11.1r',\n",
    "                        'page_size': 200\n",
    "                        })\n",
    "\n",
    "\n",
    "granv11 = response.json()['feed']['entry']\n",
    "s3_urls_v11 = []\n",
    "for granule in granv11:\n",
    "    for item in granule['links']:\n",
    "        if ( (item[\"href\"].startswith(\"s3://\")) and (mthstr in item[\"href\"]) ):\n",
    "            s3_urls_v11.append(item[\"href\"])\n"
   ]
  },
  {
   "cell_type": "code",
   "execution_count": 4,
   "id": "564b5987-6450-4e6b-b560-e8274e519725",
   "metadata": {
    "tags": []
   },
   "outputs": [
    {
     "data": {
      "text/plain": [
       "['s3://gesdisc-cumulus-prod-protected/OCO2_DATA/OCO2_L2_Lite_FP.11.1r/2020/oco2_LtCO2_200501_B11100Ar_230603205508s.nc4',\n",
       " 's3://gesdisc-cumulus-prod-protected/OCO2_DATA/OCO2_L2_Lite_FP.11.1r/2020/oco2_LtCO2_200502_B11100Ar_230603205609s.nc4',\n",
       " 's3://gesdisc-cumulus-prod-protected/OCO2_DATA/OCO2_L2_Lite_FP.11.1r/2020/oco2_LtCO2_200503_B11100Ar_230603205614s.nc4',\n",
       " 's3://gesdisc-cumulus-prod-protected/OCO2_DATA/OCO2_L2_Lite_FP.11.1r/2020/oco2_LtCO2_200504_B11100Ar_230603205837s.nc4',\n",
       " 's3://gesdisc-cumulus-prod-protected/OCO2_DATA/OCO2_L2_Lite_FP.11.1r/2020/oco2_LtCO2_200505_B11100Ar_230603205850s.nc4',\n",
       " 's3://gesdisc-cumulus-prod-protected/OCO2_DATA/OCO2_L2_Lite_FP.11.1r/2020/oco2_LtCO2_200506_B11100Ar_230603205935s.nc4',\n",
       " 's3://gesdisc-cumulus-prod-protected/OCO2_DATA/OCO2_L2_Lite_FP.11.1r/2020/oco2_LtCO2_200507_B11100Ar_230603210045s.nc4',\n",
       " 's3://gesdisc-cumulus-prod-protected/OCO2_DATA/OCO2_L2_Lite_FP.11.1r/2020/oco2_LtCO2_200508_B11100Ar_230603210103s.nc4',\n",
       " 's3://gesdisc-cumulus-prod-protected/OCO2_DATA/OCO2_L2_Lite_FP.11.1r/2020/oco2_LtCO2_200509_B11100Ar_230603210306s.nc4',\n",
       " 's3://gesdisc-cumulus-prod-protected/OCO2_DATA/OCO2_L2_Lite_FP.11.1r/2020/oco2_LtCO2_200510_B11100Ar_230603210314s.nc4',\n",
       " 's3://gesdisc-cumulus-prod-protected/OCO2_DATA/OCO2_L2_Lite_FP.11.1r/2020/oco2_LtCO2_200511_B11100Ar_230603210424s.nc4',\n",
       " 's3://gesdisc-cumulus-prod-protected/OCO2_DATA/OCO2_L2_Lite_FP.11.1r/2020/oco2_LtCO2_200512_B11100Ar_230603210508s.nc4',\n",
       " 's3://gesdisc-cumulus-prod-protected/OCO2_DATA/OCO2_L2_Lite_FP.11.1r/2020/oco2_LtCO2_200513_B11100Ar_230603210552s.nc4',\n",
       " 's3://gesdisc-cumulus-prod-protected/OCO2_DATA/OCO2_L2_Lite_FP.11.1r/2020/oco2_LtCO2_200514_B11100Ar_230603210739s.nc4',\n",
       " 's3://gesdisc-cumulus-prod-protected/OCO2_DATA/OCO2_L2_Lite_FP.11.1r/2020/oco2_LtCO2_200515_B11100Ar_230603210758s.nc4',\n",
       " 's3://gesdisc-cumulus-prod-protected/OCO2_DATA/OCO2_L2_Lite_FP.11.1r/2020/oco2_LtCO2_200516_B11100Ar_230603210906s.nc4',\n",
       " 's3://gesdisc-cumulus-prod-protected/OCO2_DATA/OCO2_L2_Lite_FP.11.1r/2020/oco2_LtCO2_200517_B11100Ar_230603210912s.nc4',\n",
       " 's3://gesdisc-cumulus-prod-protected/OCO2_DATA/OCO2_L2_Lite_FP.11.1r/2020/oco2_LtCO2_200518_B11100Ar_230603211011s.nc4',\n",
       " 's3://gesdisc-cumulus-prod-protected/OCO2_DATA/OCO2_L2_Lite_FP.11.1r/2020/oco2_LtCO2_200519_B11100Ar_230603211210s.nc4',\n",
       " 's3://gesdisc-cumulus-prod-protected/OCO2_DATA/OCO2_L2_Lite_FP.11.1r/2020/oco2_LtCO2_200520_B11100Ar_230603211221s.nc4',\n",
       " 's3://gesdisc-cumulus-prod-protected/OCO2_DATA/OCO2_L2_Lite_FP.11.1r/2020/oco2_LtCO2_200521_B11100Ar_230603211349s.nc4',\n",
       " 's3://gesdisc-cumulus-prod-protected/OCO2_DATA/OCO2_L2_Lite_FP.11.1r/2020/oco2_LtCO2_200522_B11100Ar_230603211352s.nc4',\n",
       " 's3://gesdisc-cumulus-prod-protected/OCO2_DATA/OCO2_L2_Lite_FP.11.1r/2020/oco2_LtCO2_200523_B11100Ar_230603211502s.nc4',\n",
       " 's3://gesdisc-cumulus-prod-protected/OCO2_DATA/OCO2_L2_Lite_FP.11.1r/2020/oco2_LtCO2_200524_B11100Ar_230603211650s.nc4',\n",
       " 's3://gesdisc-cumulus-prod-protected/OCO2_DATA/OCO2_L2_Lite_FP.11.1r/2020/oco2_LtCO2_200525_B11100Ar_230603211714s.nc4',\n",
       " 's3://gesdisc-cumulus-prod-protected/OCO2_DATA/OCO2_L2_Lite_FP.11.1r/2020/oco2_LtCO2_200526_B11100Ar_230603211806s.nc4',\n",
       " 's3://gesdisc-cumulus-prod-protected/OCO2_DATA/OCO2_L2_Lite_FP.11.1r/2020/oco2_LtCO2_200527_B11100Ar_230603211818s.nc4',\n",
       " 's3://gesdisc-cumulus-prod-protected/OCO2_DATA/OCO2_L2_Lite_FP.11.1r/2020/oco2_LtCO2_200528_B11100Ar_230603211922s.nc4',\n",
       " 's3://gesdisc-cumulus-prod-protected/OCO2_DATA/OCO2_L2_Lite_FP.11.1r/2020/oco2_LtCO2_200529_B11100Ar_230603212137s.nc4',\n",
       " 's3://gesdisc-cumulus-prod-protected/OCO2_DATA/OCO2_L2_Lite_FP.11.1r/2020/oco2_LtCO2_200530_B11100Ar_230603212139s.nc4',\n",
       " 's3://gesdisc-cumulus-prod-protected/OCO2_DATA/OCO2_L2_Lite_FP.11.1r/2020/oco2_LtCO2_200531_B11100Ar_230603212242s.nc4']"
      ]
     },
     "execution_count": 4,
     "metadata": {},
     "output_type": "execute_result"
    }
   ],
   "source": [
    "s3_urls_v11"
   ]
  },
  {
   "cell_type": "markdown",
   "id": "1437d73f-de7e-45db-b221-f7e82d054e3d",
   "metadata": {},
   "source": [
    "## Open files and aggregate\n",
    "\n",
    "Load additional libraries and obtain S3 credentials"
   ]
  },
  {
   "cell_type": "code",
   "execution_count": 5,
   "id": "a014f5a0-1629-49d2-9458-7e74d8ba7ca5",
   "metadata": {
    "tags": []
   },
   "outputs": [],
   "source": [
    "from netrc import netrc\n",
    "from subprocess import Popen\n",
    "from platform import system\n",
    "from getpass import getpass\n",
    "import os\n",
    "import requests\n",
    "import xarray as xr\n",
    "import s3fs\n",
    "import boto3\n",
    "\n"
   ]
  },
  {
   "cell_type": "code",
   "execution_count": 6,
   "id": "03ea6160-32e5-4b8a-86da-a6af505138dc",
   "metadata": {
    "tags": []
   },
   "outputs": [
    {
     "data": {
      "text/plain": [
       "s3fs.core.S3FileSystem"
      ]
     },
     "execution_count": 6,
     "metadata": {},
     "output_type": "execute_result"
    }
   ],
   "source": [
    "gesdisc_s3 = \"https://data.gesdisc.earthdata.nasa.gov/s3credentials\"\n",
    "\n",
    "# Define a function for S3 access credentials\n",
    "\n",
    "def begin_s3_direct_access(url: str=gesdisc_s3):\n",
    "    response = requests.get(url).json()\n",
    "    return s3fs.S3FileSystem(key=response['accessKeyId'],\n",
    "                             secret=response['secretAccessKey'],\n",
    "                             token=response['sessionToken'],\n",
    "                             client_kwargs={'region_name':'us-west-2'})\n",
    "\n",
    "fs = begin_s3_direct_access()\n",
    "\n",
    "# Check that the file system is intact as an S3FileSystem object, which means that token is valid\n",
    "# Common causes of rejected S3 access tokens include incorrect passwords stored in the netrc file, or a non-existent netrc file\n",
    "type(fs)"
   ]
  },
  {
   "cell_type": "code",
   "execution_count": 7,
   "id": "ca664ce7-2a4f-4c2e-a052-6735babe8798",
   "metadata": {
    "tags": []
   },
   "outputs": [
    {
     "data": {
      "text/plain": [
       "{'ETag': '\"40909822f73e68993433907dd24c4614-1\"',\n",
       " 'LastModified': datetime.datetime(2023, 6, 29, 17, 17, 44, tzinfo=tzutc()),\n",
       " 'size': 54991458,\n",
       " 'name': 'gesdisc-cumulus-prod-protected/OCO2_DATA/OCO2_L2_Lite_FP.11.1r/2020/oco2_LtCO2_200501_B11100Ar_230603205508s.nc4',\n",
       " 'type': 'file',\n",
       " 'StorageClass': 'STANDARD',\n",
       " 'VersionId': None,\n",
       " 'ContentType': 'binary/octet-stream'}"
      ]
     },
     "execution_count": 7,
     "metadata": {},
     "output_type": "execute_result"
    }
   ],
   "source": [
    "fs.info(s3_urls_v11[0])"
   ]
  },
  {
   "cell_type": "markdown",
   "id": "45beb9f4-2064-47db-91e2-3db767df2f6c",
   "metadata": {},
   "source": [
    "### Loop Through Files\n",
    "\n",
    "* Loop through each daily file\n",
    "* Extract XCO2, raw XCO2, quality flag, surface type\n",
    "* Aggregate to 10s average\n",
    "\n"
   ]
  },
  {
   "cell_type": "code",
   "execution_count": 8,
   "id": "38eee585-b5c5-4c6a-bbbf-d120360e435a",
   "metadata": {
    "tags": []
   },
   "outputs": [],
   "source": [
    "import pandas\n",
    "import numpy\n",
    "\n",
    "def qsummary(df,grpvr,vrlst):\n",
    "    # Summarize with quantiles\n",
    "    nmtch = df.shape[0] \n",
    "    dfout = pandas.DataFrame({'NSmp' : nmtch}, index=[0])\n",
    "    #dfout[grpvr] = df[grpvr].values[0]\n",
    "    for j in range(len(vrlst)):\n",
    "        tmpdt = df[vrlst[j]]\n",
    "        dtvld = tmpdt[numpy.isfinite(tmpdt)]\n",
    "        dtvld = dtvld[dtvld != 0.0]\n",
    "        vrnm = '%s_Med' % (vrlst[j])\n",
    "        dfout[vrnm] = numpy.median(dtvld)\n",
    "\n",
    "    return dfout\n",
    "\n"
   ]
  },
  {
   "cell_type": "code",
   "execution_count": 9,
   "id": "83a6c9d4-f5fa-4fe2-bb1e-f429a44296fc",
   "metadata": {
    "tags": []
   },
   "outputs": [
    {
     "name": "stdout",
     "output_type": "stream",
     "text": [
      "s3://gesdisc-cumulus-prod-protected/OCO2_DATA/OCO2_L2_Lite_FP.11.1r/2020/oco2_LtCO2_200501_B11100Ar_230603205508s.nc4\n",
      "(1003, 8)\n",
      "s3://gesdisc-cumulus-prod-protected/OCO2_DATA/OCO2_L2_Lite_FP.11.1r/2020/oco2_LtCO2_200502_B11100Ar_230603205609s.nc4\n",
      "(1124, 8)\n",
      "s3://gesdisc-cumulus-prod-protected/OCO2_DATA/OCO2_L2_Lite_FP.11.1r/2020/oco2_LtCO2_200503_B11100Ar_230603205614s.nc4\n",
      "(1154, 8)\n",
      "s3://gesdisc-cumulus-prod-protected/OCO2_DATA/OCO2_L2_Lite_FP.11.1r/2020/oco2_LtCO2_200504_B11100Ar_230603205837s.nc4\n",
      "(968, 8)\n",
      "s3://gesdisc-cumulus-prod-protected/OCO2_DATA/OCO2_L2_Lite_FP.11.1r/2020/oco2_LtCO2_200505_B11100Ar_230603205850s.nc4\n",
      "(852, 8)\n",
      "s3://gesdisc-cumulus-prod-protected/OCO2_DATA/OCO2_L2_Lite_FP.11.1r/2020/oco2_LtCO2_200506_B11100Ar_230603205935s.nc4\n",
      "(1091, 8)\n",
      "s3://gesdisc-cumulus-prod-protected/OCO2_DATA/OCO2_L2_Lite_FP.11.1r/2020/oco2_LtCO2_200507_B11100Ar_230603210045s.nc4\n",
      "(922, 8)\n",
      "s3://gesdisc-cumulus-prod-protected/OCO2_DATA/OCO2_L2_Lite_FP.11.1r/2020/oco2_LtCO2_200508_B11100Ar_230603210103s.nc4\n",
      "(1007, 8)\n",
      "s3://gesdisc-cumulus-prod-protected/OCO2_DATA/OCO2_L2_Lite_FP.11.1r/2020/oco2_LtCO2_200509_B11100Ar_230603210306s.nc4\n",
      "(1149, 8)\n",
      "s3://gesdisc-cumulus-prod-protected/OCO2_DATA/OCO2_L2_Lite_FP.11.1r/2020/oco2_LtCO2_200510_B11100Ar_230603210314s.nc4\n",
      "(1168, 8)\n",
      "s3://gesdisc-cumulus-prod-protected/OCO2_DATA/OCO2_L2_Lite_FP.11.1r/2020/oco2_LtCO2_200511_B11100Ar_230603210424s.nc4\n",
      "(1136, 8)\n",
      "s3://gesdisc-cumulus-prod-protected/OCO2_DATA/OCO2_L2_Lite_FP.11.1r/2020/oco2_LtCO2_200512_B11100Ar_230603210508s.nc4\n",
      "(785, 8)\n",
      "s3://gesdisc-cumulus-prod-protected/OCO2_DATA/OCO2_L2_Lite_FP.11.1r/2020/oco2_LtCO2_200513_B11100Ar_230603210552s.nc4\n",
      "(1079, 8)\n",
      "s3://gesdisc-cumulus-prod-protected/OCO2_DATA/OCO2_L2_Lite_FP.11.1r/2020/oco2_LtCO2_200514_B11100Ar_230603210739s.nc4\n",
      "(1016, 8)\n",
      "s3://gesdisc-cumulus-prod-protected/OCO2_DATA/OCO2_L2_Lite_FP.11.1r/2020/oco2_LtCO2_200515_B11100Ar_230603210758s.nc4\n",
      "(937, 8)\n",
      "s3://gesdisc-cumulus-prod-protected/OCO2_DATA/OCO2_L2_Lite_FP.11.1r/2020/oco2_LtCO2_200516_B11100Ar_230603210906s.nc4\n",
      "(1041, 8)\n",
      "s3://gesdisc-cumulus-prod-protected/OCO2_DATA/OCO2_L2_Lite_FP.11.1r/2020/oco2_LtCO2_200517_B11100Ar_230603210912s.nc4\n",
      "(1155, 8)\n",
      "s3://gesdisc-cumulus-prod-protected/OCO2_DATA/OCO2_L2_Lite_FP.11.1r/2020/oco2_LtCO2_200518_B11100Ar_230603211011s.nc4\n",
      "(912, 8)\n",
      "s3://gesdisc-cumulus-prod-protected/OCO2_DATA/OCO2_L2_Lite_FP.11.1r/2020/oco2_LtCO2_200519_B11100Ar_230603211210s.nc4\n",
      "(972, 8)\n",
      "s3://gesdisc-cumulus-prod-protected/OCO2_DATA/OCO2_L2_Lite_FP.11.1r/2020/oco2_LtCO2_200520_B11100Ar_230603211221s.nc4\n",
      "(1240, 8)\n",
      "s3://gesdisc-cumulus-prod-protected/OCO2_DATA/OCO2_L2_Lite_FP.11.1r/2020/oco2_LtCO2_200521_B11100Ar_230603211349s.nc4\n",
      "(1051, 8)\n",
      "s3://gesdisc-cumulus-prod-protected/OCO2_DATA/OCO2_L2_Lite_FP.11.1r/2020/oco2_LtCO2_200522_B11100Ar_230603211352s.nc4\n",
      "(967, 8)\n",
      "s3://gesdisc-cumulus-prod-protected/OCO2_DATA/OCO2_L2_Lite_FP.11.1r/2020/oco2_LtCO2_200523_B11100Ar_230603211502s.nc4\n",
      "(917, 8)\n",
      "s3://gesdisc-cumulus-prod-protected/OCO2_DATA/OCO2_L2_Lite_FP.11.1r/2020/oco2_LtCO2_200524_B11100Ar_230603211650s.nc4\n",
      "(1119, 8)\n",
      "s3://gesdisc-cumulus-prod-protected/OCO2_DATA/OCO2_L2_Lite_FP.11.1r/2020/oco2_LtCO2_200525_B11100Ar_230603211714s.nc4\n",
      "(881, 8)\n",
      "s3://gesdisc-cumulus-prod-protected/OCO2_DATA/OCO2_L2_Lite_FP.11.1r/2020/oco2_LtCO2_200526_B11100Ar_230603211806s.nc4\n",
      "(917, 8)\n",
      "s3://gesdisc-cumulus-prod-protected/OCO2_DATA/OCO2_L2_Lite_FP.11.1r/2020/oco2_LtCO2_200527_B11100Ar_230603211818s.nc4\n",
      "(1307, 8)\n",
      "s3://gesdisc-cumulus-prod-protected/OCO2_DATA/OCO2_L2_Lite_FP.11.1r/2020/oco2_LtCO2_200528_B11100Ar_230603211922s.nc4\n",
      "(1115, 8)\n",
      "s3://gesdisc-cumulus-prod-protected/OCO2_DATA/OCO2_L2_Lite_FP.11.1r/2020/oco2_LtCO2_200529_B11100Ar_230603212137s.nc4\n",
      "(946, 8)\n",
      "s3://gesdisc-cumulus-prod-protected/OCO2_DATA/OCO2_L2_Lite_FP.11.1r/2020/oco2_LtCO2_200530_B11100Ar_230603212139s.nc4\n",
      "(1096, 8)\n",
      "s3://gesdisc-cumulus-prod-protected/OCO2_DATA/OCO2_L2_Lite_FP.11.1r/2020/oco2_LtCO2_200531_B11100Ar_230603212242s.nc4\n",
      "(1190, 8)\n"
     ]
    }
   ],
   "source": [
    "nbtch = 0\n",
    "\n",
    "for k in range(len(s3_urls_v11)): \n",
    "    print(s3_urls_v11[k])\n",
    "    ltnc = xr.open_dataset(fs.open(s3_urls_v11[k]),\n",
    "                           decode_cf=True,)\n",
    "    ltsdg = ltnc.sounding_id.values[:]\n",
    "    ltlat = ltnc.latitude.values[:]\n",
    "    ltlon = ltnc.longitude.values[:]\n",
    "    ltxco2 = ltnc.xco2.values[:]\n",
    "    ltflg = ltnc.xco2_quality_flag[:]\n",
    "    ltnc.close()\n",
    "\n",
    "    ltncrtr = xr.open_dataset(fs.open(s3_urls_v11[k]),\n",
    "                              decode_cf=True,group=\"Retrieval\")\n",
    "    xco2rw = ltncrtr.xco2_raw.values[:]\n",
    "    sfctp = ltncrtr.surface_type.values[:]\n",
    "    ltncrtr.close()\n",
    "    # Surface type: 0=water, 1=land\n",
    "\n",
    "    ltfrm = pandas.DataFrame({'SoundingID': ltsdg, \n",
    "                          'Latitude': ltlat, 'Longitude': ltlon, 'XCO2': ltxco2, 'XCO2Raw': xco2rw,\n",
    "                          'V11QFlag': ltflg, 'SfcType':sfctp})\n",
    "    ltfrm['Sdg10s'] = numpy.floor(ltfrm['SoundingID'] / 1.0e3)\n",
    "    ltfrm = ltfrm[ltfrm['V11QFlag'] == 0]\n",
    "    \n",
    "    grpoco = ltfrm.groupby(['Sdg10s','SfcType'])\n",
    "    ocoqs = grpoco.apply(qsummary,grpvr='Sdg10s',vrlst=['XCO2','XCO2Raw','Latitude','Longitude'])\n",
    "    ocoqs.reset_index(drop=False,inplace=True)    \n",
    "    \n",
    "    print(ocoqs.shape)\n",
    "    \n",
    "    if nbtch == 0:\n",
    "        oco_all = ocoqs\n",
    "    else:\n",
    "        oco_all = pandas.concat([oco_all,ocoqs], ignore_index=True) \n",
    "    nbtch = nbtch + ocoqs.shape[0]"
   ]
  },
  {
   "cell_type": "code",
   "execution_count": 10,
   "id": "94ecacc0-4e0c-4d25-add0-d577e8cd2ec9",
   "metadata": {
    "tags": []
   },
   "outputs": [
    {
     "data": {
      "text/plain": [
       "32217"
      ]
     },
     "execution_count": 10,
     "metadata": {},
     "output_type": "execute_result"
    }
   ],
   "source": [
    "nbtch"
   ]
  },
  {
   "cell_type": "code",
   "execution_count": 11,
   "id": "2d8eb208-9256-4251-9d4e-eb72422141c3",
   "metadata": {
    "tags": []
   },
   "outputs": [
    {
     "data": {
      "text/html": [
       "<div>\n",
       "<style scoped>\n",
       "    .dataframe tbody tr th:only-of-type {\n",
       "        vertical-align: middle;\n",
       "    }\n",
       "\n",
       "    .dataframe tbody tr th {\n",
       "        vertical-align: top;\n",
       "    }\n",
       "\n",
       "    .dataframe thead th {\n",
       "        text-align: right;\n",
       "    }\n",
       "</style>\n",
       "<table border=\"1\" class=\"dataframe\">\n",
       "  <thead>\n",
       "    <tr style=\"text-align: right;\">\n",
       "      <th></th>\n",
       "      <th>Sdg10s</th>\n",
       "      <th>SfcType</th>\n",
       "      <th>level_2</th>\n",
       "      <th>NSmp</th>\n",
       "      <th>XCO2_Med</th>\n",
       "      <th>XCO2Raw_Med</th>\n",
       "      <th>Latitude_Med</th>\n",
       "      <th>Longitude_Med</th>\n",
       "    </tr>\n",
       "  </thead>\n",
       "  <tbody>\n",
       "    <tr>\n",
       "      <th>100</th>\n",
       "      <td>2.020050e+12</td>\n",
       "      <td>0.0</td>\n",
       "      <td>0</td>\n",
       "      <td>98</td>\n",
       "      <td>409.639709</td>\n",
       "      <td>408.697479</td>\n",
       "      <td>-26.459198</td>\n",
       "      <td>179.931015</td>\n",
       "    </tr>\n",
       "    <tr>\n",
       "      <th>101</th>\n",
       "      <td>2.020050e+12</td>\n",
       "      <td>0.0</td>\n",
       "      <td>0</td>\n",
       "      <td>1</td>\n",
       "      <td>410.275116</td>\n",
       "      <td>409.971375</td>\n",
       "      <td>-25.017172</td>\n",
       "      <td>179.572281</td>\n",
       "    </tr>\n",
       "    <tr>\n",
       "      <th>102</th>\n",
       "      <td>2.020050e+12</td>\n",
       "      <td>0.0</td>\n",
       "      <td>0</td>\n",
       "      <td>4</td>\n",
       "      <td>410.071075</td>\n",
       "      <td>409.841553</td>\n",
       "      <td>-24.642244</td>\n",
       "      <td>179.567856</td>\n",
       "    </tr>\n",
       "    <tr>\n",
       "      <th>103</th>\n",
       "      <td>2.020050e+12</td>\n",
       "      <td>0.0</td>\n",
       "      <td>0</td>\n",
       "      <td>192</td>\n",
       "      <td>409.660583</td>\n",
       "      <td>408.879517</td>\n",
       "      <td>-24.109816</td>\n",
       "      <td>179.448166</td>\n",
       "    </tr>\n",
       "    <tr>\n",
       "      <th>104</th>\n",
       "      <td>2.020050e+12</td>\n",
       "      <td>0.0</td>\n",
       "      <td>0</td>\n",
       "      <td>159</td>\n",
       "      <td>409.596741</td>\n",
       "      <td>408.750000</td>\n",
       "      <td>-23.617317</td>\n",
       "      <td>179.331955</td>\n",
       "    </tr>\n",
       "    <tr>\n",
       "      <th>105</th>\n",
       "      <td>2.020050e+12</td>\n",
       "      <td>0.0</td>\n",
       "      <td>0</td>\n",
       "      <td>57</td>\n",
       "      <td>409.575500</td>\n",
       "      <td>408.372131</td>\n",
       "      <td>-23.199471</td>\n",
       "      <td>179.233887</td>\n",
       "    </tr>\n",
       "    <tr>\n",
       "      <th>106</th>\n",
       "      <td>2.020050e+12</td>\n",
       "      <td>0.0</td>\n",
       "      <td>0</td>\n",
       "      <td>9</td>\n",
       "      <td>409.456116</td>\n",
       "      <td>407.841705</td>\n",
       "      <td>-22.288710</td>\n",
       "      <td>179.085449</td>\n",
       "    </tr>\n",
       "    <tr>\n",
       "      <th>107</th>\n",
       "      <td>2.020050e+12</td>\n",
       "      <td>0.0</td>\n",
       "      <td>0</td>\n",
       "      <td>1</td>\n",
       "      <td>409.373810</td>\n",
       "      <td>408.491486</td>\n",
       "      <td>-21.715818</td>\n",
       "      <td>178.902206</td>\n",
       "    </tr>\n",
       "    <tr>\n",
       "      <th>108</th>\n",
       "      <td>2.020050e+12</td>\n",
       "      <td>0.0</td>\n",
       "      <td>0</td>\n",
       "      <td>17</td>\n",
       "      <td>409.430115</td>\n",
       "      <td>408.188171</td>\n",
       "      <td>-21.298992</td>\n",
       "      <td>178.869934</td>\n",
       "    </tr>\n",
       "    <tr>\n",
       "      <th>109</th>\n",
       "      <td>2.020050e+12</td>\n",
       "      <td>0.0</td>\n",
       "      <td>0</td>\n",
       "      <td>10</td>\n",
       "      <td>409.515930</td>\n",
       "      <td>408.344055</td>\n",
       "      <td>-20.984327</td>\n",
       "      <td>178.771576</td>\n",
       "    </tr>\n",
       "  </tbody>\n",
       "</table>\n",
       "</div>"
      ],
      "text/plain": [
       "           Sdg10s  SfcType  level_2  NSmp    XCO2_Med  XCO2Raw_Med  \\\n",
       "100  2.020050e+12      0.0        0    98  409.639709   408.697479   \n",
       "101  2.020050e+12      0.0        0     1  410.275116   409.971375   \n",
       "102  2.020050e+12      0.0        0     4  410.071075   409.841553   \n",
       "103  2.020050e+12      0.0        0   192  409.660583   408.879517   \n",
       "104  2.020050e+12      0.0        0   159  409.596741   408.750000   \n",
       "105  2.020050e+12      0.0        0    57  409.575500   408.372131   \n",
       "106  2.020050e+12      0.0        0     9  409.456116   407.841705   \n",
       "107  2.020050e+12      0.0        0     1  409.373810   408.491486   \n",
       "108  2.020050e+12      0.0        0    17  409.430115   408.188171   \n",
       "109  2.020050e+12      0.0        0    10  409.515930   408.344055   \n",
       "\n",
       "     Latitude_Med  Longitude_Med  \n",
       "100    -26.459198     179.931015  \n",
       "101    -25.017172     179.572281  \n",
       "102    -24.642244     179.567856  \n",
       "103    -24.109816     179.448166  \n",
       "104    -23.617317     179.331955  \n",
       "105    -23.199471     179.233887  \n",
       "106    -22.288710     179.085449  \n",
       "107    -21.715818     178.902206  \n",
       "108    -21.298992     178.869934  \n",
       "109    -20.984327     178.771576  "
      ]
     },
     "execution_count": 11,
     "metadata": {},
     "output_type": "execute_result"
    }
   ],
   "source": [
    "oco_all[100:110]"
   ]
  },
  {
   "cell_type": "markdown",
   "id": "a1699fd0-0dd7-4afc-9891-a076f785e32c",
   "metadata": {},
   "source": [
    "### Summarize by Latitude\n",
    "\n",
    "Further aggreagtion of results by latitude bins and surface type"
   ]
  },
  {
   "cell_type": "code",
   "execution_count": 12,
   "id": "ef60f0cd-7d96-4d73-8a6b-1c0e677ba79c",
   "metadata": {
    "tags": []
   },
   "outputs": [],
   "source": [
    "# Subset by sounding count\n",
    "oco_all = oco_all[oco_all['NSmp'] > 30]\n",
    "oco_all['XCO2Diff'] = oco_all['XCO2Raw_Med'] - oco_all['XCO2_Med']\n",
    "\n",
    "# Latitude binning\n",
    "ltfrq = 15.0\n",
    "oco_all['GridLat'] = numpy.floor(oco_all['Latitude_Med']/ltfrq) * ltfrq + ltfrq / 2.0"
   ]
  },
  {
   "cell_type": "code",
   "execution_count": 13,
   "id": "29d16a35-f8a0-4669-99b6-c5b46fd183eb",
   "metadata": {
    "tags": []
   },
   "outputs": [
    {
     "data": {
      "image/png": "[encoded data removed]",
      "text/plain": [
       "<Figure size 640x480 with 1 Axes>"
      ]
     },
     "metadata": {},
     "output_type": "display_data"
    }
   ],
   "source": [
    "import matplotlib.pyplot as plt\n",
    "%matplotlib inline\n",
    "\n",
    "# Land Only\n",
    "oco_lnd = oco_all[ oco_all['SfcType'] == 1]\n",
    "\n",
    "lndbx = oco_lnd.boxplot(column=['XCO2Diff'], by=['GridLat'])\n",
    "lndbx.plot()\n",
    "lndbx.get_figure().suptitle(\"\")\n",
    "plt.title('OCO-2 Land XCO2 Diff (Raw-Bias Corr) 2020-05')\n",
    "plt.ylabel('XCO2 Difference [ppm]')\n",
    "plt.xlabel('Latitude Bin Center')\n",
    "plt.show()"
   ]
  },
  {
   "cell_type": "code",
   "execution_count": 14,
   "id": "fb6a560d-cc2d-44ef-bf94-28476f074ca2",
   "metadata": {
    "tags": []
   },
   "outputs": [
    {
     "data": {
      "image/png": "[encoded data removed]",
      "text/plain": [
       "<Figure size 640x480 with 1 Axes>"
      ]
     },
     "metadata": {},
     "output_type": "display_data"
    }
   ],
   "source": [
    "# Water Only\n",
    "oco_wtr = oco_all[ oco_all['SfcType'] == 0]\n",
    "\n",
    "wtrbx = oco_wtr.boxplot(column=['XCO2Diff'], by=['GridLat'])\n",
    "wtrbx.plot()\n",
    "wtrbx.get_figure().suptitle(\"\")\n",
    "plt.title('OCO-2 Water XCO2 Diff (Raw-Bias Corr) 2020-05')\n",
    "plt.ylabel('XCO2 Difference [ppm]')\n",
    "plt.xlabel('Latitude Bin Center')\n",
    "plt.show()"
   ]
  },
  {
   "cell_type": "code",
   "execution_count": null,
   "id": "14e676d4-2ac0-4038-bb28-9fc511345d64",
   "metadata": {},
   "outputs": [],
   "source": []
  }
 ],
 "metadata": {
  "kernelspec": {
   "display_name": "Python 3 (ipykernel)",
   "language": "python",
   "name": "python3"
  },
  "language_info": {
   "codemirror_mode": {
    "name": "ipython",
    "version": 3
   },
   "file_extension": ".py",
   "mimetype": "text/x-python",
   "name": "python",
   "nbconvert_exporter": "python",
   "pygments_lexer": "ipython3",
   "version": "3.10.12"
  }
 },
 "nbformat": 4,
 "nbformat_minor": 5
}
